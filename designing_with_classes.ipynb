{
 "cells": [
  {
   "cell_type": "markdown",
   "metadata": {},
   "source": [
    "### Designing with classes\n",
    "\n",
    "#### Python and OOP\n",
    "\n",
    "Pythons implementation of OOP can be summarized by three ideas:\n",
    "\n",
    "- Inheritence: Inheritence is based on attribute lookup in Python (in X.name expressions)\n",
    "- Polymorphism: In X.method, the meaning of method depends on the type (class) of subject object X.\n",
    "- Encapsulation: Methods and operators implement behavior, though data hiding is a convention by default\n",
    "\n",
    "\n",
    "\n",
    "#### OOP and Inheritance: \"Is-a\" Relationship\n",
    "\n",
    "\n",
    "Inheritance is kicked off by attribute qualifications, which trigger searches for names in instances, their classes, and then any superclassess. From a designers point of view, inheritance is a way to specify set membership: a class defines a a set of properties that may be inherited and customized by more specific sets (i.e, subclasses)\n",
    "\n",
    "#### OOP and Composition: \"Has-a\"  Relationships\n",
    "\n",
    "From a programmer’s point of view, composition involves embedding other objects in a container object, and activating them to implement container methods. To a designer, composition is another way to represent relationships in a problem domain. But, rather than set membership, composition has to do with components—parts of a whole.\n",
    "\n",
    "Composition also reflects the relationships between parts, called “has-a” relationships. Some OOP design texts refer to composition as aggregation, or distinguish between the two terms by using aggregation to describe a weaker dependency between container and contained. In this text, a “composition” simply refers to a collection of embedded objects. The composite class generally provides an interface all its own and implements it by directing the embedded objects.\n",
    "\n",
    "\n",
    "As a rule of thumb, classes can represent just about any objects and relationships you can express in a sentence; just replace nouns with classes (e.g., Oven), and verbs with methods (e.g., bake), and you’ll have a first cut at a design.\n"
   ]
  },
  {
   "cell_type": "markdown",
   "metadata": {},
   "source": [
    "#### Pseudoprivate Class Attributes\n",
    "\n",
    "Besides larger structuring goals, class designs often must address name usage too. In Chapter 28’s case study, for example, we noted that methods defined within a general tool class might be modified by subclasses if exposed, and noted the tradeoffs of this policy—while it supports method customization and direct calls, it’s also open to accidental replacements. \n",
    "\n",
    "In Part V, we learned that every name assigned at the top level of a module file is exported. By default, the same holds for classes—data hiding is a convention, and clients may fetch or change attributes in any class or instance to which they have a reference. In fact, attributes are all “public” and “virtual,” in C++ terms; they’re all accessible everywhere and are looked up dynamically at runtime.\n",
    "\n",
    "That said, Python today does support the notion of name “mangling” (i.e., expansion) to localize some names in classes. Mangled names are sometimes misleadingly called “private attributes,” but really this is just a way to localize a name to the class that created it—name mangling does not prevent access by code outside the class. This feature is mostly intended to avoid namespace collisions in instances, not to restrict access to names in general; mangled names are therefore better called “pseudoprivate” than “private.” \n",
    "\n",
    "Pseudoprivate names are an advanced and entirely optional feature, and you probably won’t find them very useful until you start writing general tools or larger class hierarchies for use in multiprogrammer projects. In fact, they are not always used even when they probably should be—more commonly, Python programmers code internal names with a single underscore (e.g., _X), which is just an informal convention to let you know that a name shouldn’t generally be changed (it means nothing to Python itself).\n",
    "\n",
    "Because you may see this feature in other people’s code, though, you need to be somewhat aware of it, even if you don’t use it yourself. And once you learn its advantages and contexts of use, you may find this feature to be more useful in your own code than some programmers realize.\n"
   ]
  },
  {
   "cell_type": "code",
   "execution_count": null,
   "metadata": {},
   "outputs": [],
   "source": []
  }
 ],
 "metadata": {
  "kernelspec": {
   "display_name": "NewEnv",
   "language": "python",
   "name": "newenv"
  },
  "language_info": {
   "codemirror_mode": {
    "name": "ipython",
    "version": 3
   },
   "file_extension": ".py",
   "mimetype": "text/x-python",
   "name": "python",
   "nbconvert_exporter": "python",
   "pygments_lexer": "ipython3",
   "version": "3.7.0"
  }
 },
 "nbformat": 4,
 "nbformat_minor": 2
}
