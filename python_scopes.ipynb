{
 "cells": [
  {
   "cell_type": "markdown",
   "metadata": {
    "tags": []
   },
   "source": [
    "### Function scopes in python\n",
    "\n",
    "```python\n",
    "def intersect(seq1, seq2):\n",
    "res = []\n",
    "for x in seq1:\n",
    "    if x in seq2:\n",
    "        res.append(x)\n",
    "return res\n",
    "```\n",
    "\n",
    "The variable inside `intersect` is what is called a local variable-a name that is visible only to code inside the function def and exists only while the function runs. In fact, all names assigned in any way inside a function are classified as local variables by default, nearly all the names in intersect are local variables:\n",
    "\n",
    "All these local variables appear when the function is called and disappear when the function exits-the return statement at the end of intersect sends back the result object but the name res goes away"
   ]
  },
  {
   "cell_type": "markdown",
   "metadata": {},
   "source": [
    "Besides packaging code for reuse, functions add an extra namespace layer to your programs to minimize the potential for collisions among variables of the same name-by default, all names assigned inside a function are associated with that functions namespace, and no other. This rule means that:\n",
    "\n",
    "- Names assigned inside a def can only be seen by the code within that def. You cannot even refer to such names from outside the function \n",
    "- Names assigned inside a def do not clash with variables outside the def, even if the same names are used elsewhere. A name X assigned outside a given def is a completely different variable from a name X assigned inside that def"
   ]
  },
  {
   "cell_type": "markdown",
   "metadata": {},
   "source": [
    "`global` and `local` statements for variable declaration declare before variable assignment\n",
    "\n",
    "- global makes scope lookup begin in the enclosing modules scope and allows names there to be assigned. Scope lookup continues on to the built-in scope if the name does not exist in the module, but assignments to global names always create or change them in the module's scope.\n",
    "\n",
    "- nonlocal restricts scope lookup to just enclosing defs, requires that the names already exist there, and allows them to be assigned. Scope lookup does not continue on to the global or built-in scopes. \n",
    "\n",
    "\n"
   ]
  },
  {
   "cell_type": "markdown",
   "metadata": {},
   "source": [
    "\n",
    "### Function headers\n",
    "\n",
    "Arbitrary arguments `*` and `**` are used to support functions that take any number of arguments. Both can appear in either the function definition or a function call, and they have related purporses in the two locations.\n",
    "\n",
    "```python\n",
    "\n",
    "def f(*args):\n",
    "    print(args)\n",
    "\n",
    "```\n",
    "\n",
    "When this funcion is called, Python collects all the positional arguments into a new tuple and assigns the variable args to that tuple. Because it is a normal tuple object, it can be indexed, stepped through with a for loop and so on:\n",
    "\n",
    "```python\n",
    "f()\n",
    "#returns () empty tuple\n",
    "f(1)\n",
    "#returns (1,)\n",
    "f(1,2,3,4)\n",
    "#returns (1,2,3,4)\n",
    "```\n",
    "\n",
    "The `**` feature is similar but it only works for keyword arguments-it collects them into a new dictionary which can then be processed with a normal dictionary tools. In a sense, th ** form allows you to convert keywords to dictionaries, which you can then step through with keys calls, dictionary iterators, and teh like\n",
    "\n",
    "```python\n",
    "\n",
    "def f(**args):\n",
    "    print(args)\n",
    "\n",
    "f()\n",
    "# prints {}\n",
    "f(a=1, b=2)\n",
    "# prints {'a':1,'b':2}\n",
    "\n",
    "```\n",
    "\n",
    "Finally function headers can combine normal arguments, the * , and the ** to implement wildly flexible call signatures. For instance, in the following, 1 is passed to a by position, 2 and 3 are collected into the pargs positional tuple, and x and y wind up in the kargs keyword dictionary:\n",
    "\n",
    "```python\n",
    "def f(a, *pargs, **kwargs):\n",
    "    print(a, pargs, kwargs)\n",
    "\n",
    "f(1,2,3,x=1,y=2)\n",
    "# prints 1 (2,3) {'y':2,'x':1}\n",
    "```\n",
    "\n",
    "Such code is rare but shows up in functions that need to support multiple call patterns (for backward compatibility, for instance). In fact these features can be combined in even more complex ways that may seem ambigous at first glance. \n",
    "\n",
    "\n",
    "\n"
   ]
  },
  {
   "cell_type": "markdown",
   "metadata": {},
   "source": [
    "### Generator Functions and Expressions\n",
    "\n",
    "Two language constructs delay result creation whenever possible in user-defined operations:\n",
    "\n",
    "- Generator functions are coded as normal def statements, but use `yield` statements to return results one at a time, suspending and resuming their state between each\n",
    "\n",
    "- Generator expressions are similar to the list comprehensions but they return an object that produces results on demand instead of building a result list\n",
    "\n",
    "\n"
   ]
  },
  {
   "cell_type": "code",
   "execution_count": 11,
   "metadata": {},
   "outputs": [],
   "source": [
    "def gensquares(N):\n",
    "    for i in range(N):\n",
    "        yield i ** 2 \n"
   ]
  },
  {
   "cell_type": "markdown",
   "metadata": {},
   "source": [
    "The function yields a value, and so returns to its caller, each time through the loop; when it is resumed, its prior state is restored, including the last values of its variables i and N, and control picks up again immediately after the yield statement. For example, when its used in the body of a for loop, the first iteration starts the function and gets its first result, thereafter, control returns to the function after its yield statement each time through the loop:\n"
   ]
  },
  {
   "cell_type": "code",
   "execution_count": 12,
   "metadata": {
    "tags": []
   },
   "outputs": [
    {
     "output_type": "stream",
     "name": "stdout",
     "text": "0:1:4:9:16:"
    }
   ],
   "source": [
    "for i in gensquares(5):\n",
    "    print(i , end = \":\")"
   ]
  },
  {
   "cell_type": "markdown",
   "metadata": {},
   "source": [
    "To end the generation of values, functions either use a return statement with no value or simply allow control to fall off the end of the function body.\n",
    "\n"
   ]
  },
  {
   "cell_type": "markdown",
   "metadata": {},
   "source": [
    "### Generator expressions\n",
    "\n"
   ]
  },
  {
   "cell_type": "code",
   "execution_count": 13,
   "metadata": {},
   "outputs": [
    {
     "output_type": "execute_result",
     "data": {
      "text/plain": "<generator object <genexpr> at 0x00000259719930C0>"
     },
     "metadata": {},
     "execution_count": 13
    }
   ],
   "source": [
    "(x ** 2 for x in range(4))"
   ]
  },
  {
   "cell_type": "code",
   "execution_count": 19,
   "metadata": {
    "tags": []
   },
   "outputs": [
    {
     "output_type": "stream",
     "name": "stdout",
     "text": "0, 0.0\n1, 0.5\n4, 2.0\n9, 4.5\n"
    }
   ],
   "source": [
    "for num in (x ** 2 for x in range(4)):\n",
    "    print('%s, %s'% (num, num / 2.0))"
   ]
  },
  {
   "cell_type": "markdown",
   "metadata": {},
   "source": [
    "The following deploys generator expressions in the string join method call and tuple assignment, iteration contexts both. In the first test here, join runs the generator and joins the substrings it produces with nothing between-to simply concatenate:\n"
   ]
  },
  {
   "cell_type": "code",
   "execution_count": 20,
   "metadata": {},
   "outputs": [
    {
     "output_type": "execute_result",
     "data": {
      "text/plain": "'AAABBBCCC'"
     },
     "metadata": {},
     "execution_count": 20
    }
   ],
   "source": [
    "''.join(x.upper() for x in 'aaa,bbb,ccc'.split(','))"
   ]
  },
  {
   "cell_type": "markdown",
   "metadata": {},
   "source": [
    "Syntactically, parentheses are not required around a generator expression that is the sole item already enclosed in parentheses used for other purposes-like those of a function call. Parentheses are required in all other cases, however even if they seem extra as in the second call to sorted that follows:"
   ]
  },
  {
   "cell_type": "code",
   "execution_count": 21,
   "metadata": {},
   "outputs": [
    {
     "output_type": "execute_result",
     "data": {
      "text/plain": "14"
     },
     "metadata": {},
     "execution_count": 21
    }
   ],
   "source": [
    "sum(x ** 2 for x in range(4))"
   ]
  },
  {
   "cell_type": "code",
   "execution_count": 22,
   "metadata": {},
   "outputs": [
    {
     "output_type": "execute_result",
     "data": {
      "text/plain": "[0, 1, 4, 9]"
     },
     "metadata": {},
     "execution_count": 22
    }
   ],
   "source": [
    "sorted(x ** 2 for x in range(4)) # this is optional "
   ]
  },
  {
   "cell_type": "code",
   "execution_count": 24,
   "metadata": {},
   "outputs": [
    {
     "output_type": "execute_result",
     "data": {
      "text/plain": "[9, 4, 1, 0]"
     },
     "metadata": {},
     "execution_count": 24
    }
   ],
   "source": [
    "sorted((x ** 2 for x in range(4)), reverse=True) # the parens are required"
   ]
  },
  {
   "cell_type": "markdown",
   "metadata": {},
   "source": [
    "Just like generator functions, generator expressions are a memory space optimization they do not require the entire result list to be constructed all at once. "
   ]
  },
  {
   "cell_type": "code",
   "execution_count": 40,
   "metadata": {
    "tags": []
   },
   "outputs": [
    {
     "output_type": "stream",
     "name": "stdout",
     "text": "Wall time: 14.1 s\n"
    }
   ],
   "source": [
    "%%time\n",
    "x = 2\n",
    "for i in range(100000000):\n",
    "    x += 1"
   ]
  },
  {
   "cell_type": "code",
   "execution_count": null,
   "metadata": {},
   "outputs": [],
   "source": []
  },
  {
   "cell_type": "code",
   "execution_count": 41,
   "metadata": {
    "tags": []
   },
   "outputs": [
    {
     "output_type": "stream",
     "name": "stdout",
     "text": "Wall time: 21.5 s\n"
    }
   ],
   "source": [
    "%%time\n",
    "y = 2 \n",
    "for i in trygen(100000000):\n",
    "    y += i"
   ]
  },
  {
   "cell_type": "markdown",
   "metadata": {},
   "source": [
    "Good uses of generator expression"
   ]
  },
  {
   "cell_type": "code",
   "execution_count": 42,
   "metadata": {},
   "outputs": [
    {
     "output_type": "execute_result",
     "data": {
      "text/plain": "[2, 4, 6, 8]"
     },
     "metadata": {},
     "execution_count": 42
    }
   ],
   "source": [
    "list(map(lambda x: x * 2 , (1,2,3,4))) # non function case"
   ]
  },
  {
   "cell_type": "code",
   "execution_count": 43,
   "metadata": {},
   "outputs": [
    {
     "output_type": "execute_result",
     "data": {
      "text/plain": "[2, 4, 6, 8]"
     },
     "metadata": {},
     "execution_count": 43
    }
   ],
   "source": [
    "list(x * 2 for x in (1,2,3,4))# simpler as a generator"
   ]
  },
  {
   "cell_type": "code",
   "execution_count": 44,
   "metadata": {},
   "outputs": [
    {
     "output_type": "execute_result",
     "data": {
      "text/plain": "'AAABBBCCC'"
     },
     "metadata": {},
     "execution_count": 44
    }
   ],
   "source": [
    "line = 'aaa,bbb,ccc'\n",
    "''.join([x.upper() for x in line.split(',')]) # this makes a pointless list"
   ]
  },
  {
   "cell_type": "code",
   "execution_count": 50,
   "metadata": {},
   "outputs": [
    {
     "output_type": "execute_result",
     "data": {
      "text/plain": "'AAABBBCCC'"
     },
     "metadata": {},
     "execution_count": 50
    }
   ],
   "source": [
    "''.join(x.upper() for x in line.split(',')) # generates results"
   ]
  },
  {
   "cell_type": "code",
   "execution_count": 53,
   "metadata": {},
   "outputs": [
    {
     "output_type": "execute_result",
     "data": {
      "text/plain": "'aaaaaabbbbbbcccccc'"
     },
     "metadata": {},
     "execution_count": 53
    }
   ],
   "source": [
    "''.join(x * 2 for x in line.split(',')) # simpler as a generator"
   ]
  },
  {
   "cell_type": "code",
   "execution_count": 54,
   "metadata": {},
   "outputs": [
    {
     "output_type": "execute_result",
     "data": {
      "text/plain": "'aaaaaabbbbbbcccccc'"
     },
     "metadata": {},
     "execution_count": 54
    }
   ],
   "source": [
    "''.join(map(lambda x: x * 2, line.split(',')))"
   ]
  },
  {
   "cell_type": "markdown",
   "metadata": {},
   "source": [
    "Although the effect of all these is to combine operations, the generators do so without making multiple temporary lists. This next example both nests and combines generators-the nested generator expression is activated by map, which in turn is only activated by lists"
   ]
  },
  {
   "cell_type": "code",
   "execution_count": 55,
   "metadata": {},
   "outputs": [],
   "source": [
    "import math"
   ]
  },
  {
   "cell_type": "code",
   "execution_count": 58,
   "metadata": {},
   "outputs": [
    {
     "output_type": "execute_result",
     "data": {
      "text/plain": "[0.0, 1.0, 2.0, 3.0]"
     },
     "metadata": {},
     "execution_count": 58
    }
   ],
   "source": [
    "list(map(math.sqrt, (x ** 2 for x in range(4))))"
   ]
  },
  {
   "cell_type": "code",
   "execution_count": 61,
   "metadata": {
    "tags": []
   },
   "outputs": [
    {
     "output_type": "stream",
     "name": "stdout",
     "text": "0,1,4,9,"
    }
   ],
   "source": [
    "# generator expressions like generator functions\n",
    "\n",
    "G = (i ** 2 for i in range(4))\n",
    "for i in G:\n",
    "    print(i, end = ',')"
   ]
  },
  {
   "cell_type": "code",
   "execution_count": 64,
   "metadata": {
    "tags": []
   },
   "outputs": [
    {
     "output_type": "stream",
     "name": "stdout",
     "text": "[0, 1, 4, 9]\n[]\n"
    }
   ],
   "source": [
    "# or \n",
    "G = (i ** 2 for i in range(4))\n",
    "print(list(G)) # same as in range, except that the generator only yields values once and its gone\n",
    "print(list(G))"
   ]
  },
  {
   "cell_type": "markdown",
   "metadata": {},
   "source": [
    "Temporary loop variable names in generator, set, dict, and list comprehensions are local to the expression. However the for loop iteration statement works differently\n"
   ]
  },
  {
   "cell_type": "code",
   "execution_count": 65,
   "metadata": {},
   "outputs": [
    {
     "output_type": "execute_result",
     "data": {
      "text/plain": "99"
     },
     "metadata": {},
     "execution_count": 65
    }
   ],
   "source": [
    "X = 99\n",
    "[X for  X in range(5)]\n",
    "X"
   ]
  },
  {
   "cell_type": "code",
   "execution_count": 66,
   "metadata": {},
   "outputs": [
    {
     "output_type": "execute_result",
     "data": {
      "text/plain": "3"
     },
     "metadata": {},
     "execution_count": 66
    }
   ],
   "source": [
    "Y = 99\n",
    "\n",
    "for Y in range(4): # does not localize names\n",
    "    pass\n",
    "Y"
   ]
  },
  {
   "cell_type": "code",
   "execution_count": 37,
   "metadata": {},
   "outputs": [],
   "source": [
    "def trygen(N):\n",
    "    for i in range(N):\n",
    "        yield i"
   ]
  }
 ],
 "metadata": {
  "language_info": {
   "codemirror_mode": {
    "name": "ipython",
    "version": 3
   },
   "file_extension": ".py",
   "mimetype": "text/x-python",
   "name": "python",
   "nbconvert_exporter": "python",
   "pygments_lexer": "ipython3",
   "version": "3.7.0-final"
  },
  "orig_nbformat": 2,
  "kernelspec": {
   "name": "python_defaultSpec_1593608444179",
   "display_name": "Python 3.7.0 64-bit ('NewEnv1': conda)"
  }
 },
 "nbformat": 4,
 "nbformat_minor": 2
}