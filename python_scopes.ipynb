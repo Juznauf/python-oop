{
 "cells": [
  {
   "cell_type": "markdown",
   "metadata": {
    "tags": []
   },
   "source": [
    "### Function scopes in python\n",
    "\n",
    "```python\n",
    "def intersect(seq1, seq2):\n",
    "res = []\n",
    "for x in seq1:\n",
    "    if x in seq2:\n",
    "        res.append(x)\n",
    "return res\n",
    "```\n",
    "\n",
    "The variable inside `intersect` is what is called a local variable-a name that is visible only to code inside the function def and exists only while the function runs. In fact, all names assigned in any way inside a function are classified as local variables by default, nearly all the names in intersect are local variables:\n",
    "\n",
    "All these local variables appear when the function is called and disappear when the function exits-the return statement at the end of intersect sends back the result object but the name res goes away"
   ]
  },
  {
   "cell_type": "markdown",
   "metadata": {},
   "source": [
    "Besides packaging code for reuse, functions add an extra namespace layer to your programs to minimize the potential for collisions among variables of the same name-by default, all names assigned inside a function are associated with that functions namespace, and no other. This rule means that:\n",
    "\n",
    "- Names assigned inside a def can only be seen by the code within that def. You cannot even refer to such names from outside the function \n",
    "- Names assigned inside a def do not clash with variables outside the def, even if the same names are used elsewhere. A name X assigned outside a given def is a completely different variable from a name X assigned inside that def"
   ]
  },
  {
   "cell_type": "code",
   "execution_count": null,
   "metadata": {},
   "outputs": [],
   "source": []
  },
  {
   "cell_type": "code",
   "execution_count": null,
   "metadata": {},
   "outputs": [],
   "source": []
  }
 ],
 "metadata": {
  "language_info": {
   "codemirror_mode": {
    "name": "ipython",
    "version": 3
   },
   "file_extension": ".py",
   "mimetype": "text/x-python",
   "name": "python",
   "nbconvert_exporter": "python",
   "pygments_lexer": "ipython3",
   "version": "3.7.0-final"
  },
  "orig_nbformat": 2,
  "kernelspec": {
   "name": "python_defaultSpec_1593526423488",
   "display_name": "Python 3.7.0 64-bit ('NewEnv1': conda)"
  }
 },
 "nbformat": 4,
 "nbformat_minor": 2
}