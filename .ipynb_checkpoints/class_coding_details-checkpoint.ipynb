{
 "cells": [
  {
   "cell_type": "markdown",
   "metadata": {},
   "source": [
    "### Class Coding Details\n",
    "\n",
    "\n",
    "Classes resembles both modules and functions:\n",
    "- Like functions, class statements are local scopes where names created by nested assignments live.\n",
    "- Like names in a module, names assigned in a class statement become attributes in a class object\n",
    "\n",
    "The main distinction for classes is that their namespaces are also the basis of inheritance in Python; reference attributes that are not found in a class or instance object are fetched from other classes. \n",
    "\n",
    "Assignments of simple nonfunction objects to class attributes produce data attributes, shared by all instances:\n",
    "\n",
    "```python\n",
    "class SharedData:\n",
    "    spam = 42 # generates a class data attribute\n",
    "    \n",
    "x = SharedData()\n",
    "y = SharedData()\n",
    "x.spam, y.spam\n",
    "```\n"
   ]
  },
  {
   "cell_type": "code",
   "execution_count": 3,
   "metadata": {},
   "outputs": [
    {
     "data": {
      "text/plain": [
       "(42, 42)"
      ]
     },
     "execution_count": 3,
     "metadata": {},
     "output_type": "execute_result"
    }
   ],
   "source": [
    "class SharedData:\n",
    "    spam = 42 # generates a class data attribute\n",
    "\n",
    "x = SharedData()\n",
    "y = SharedData()\n",
    "x.spam, y.spam\n"
   ]
  },
  {
   "cell_type": "markdown",
   "metadata": {},
   "source": [
    "We can change it by going through the class name, and we can refer to it through either instances or the class:\n",
    "\n",
    "```python\n",
    "SharedData.spam = 99\n",
    "x.spam, y.spam, SharedData.spam\n",
    "```"
   ]
  },
  {
   "cell_type": "code",
   "execution_count": 4,
   "metadata": {},
   "outputs": [
    {
     "data": {
      "text/plain": [
       "(99, 99, 99)"
      ]
     },
     "execution_count": 4,
     "metadata": {},
     "output_type": "execute_result"
    }
   ],
   "source": [
    "SharedData.spam = 99\n",
    "x.spam, y.spam, SharedData.spam"
   ]
  },
  {
   "cell_type": "markdown",
   "metadata": {},
   "source": [
    "However if we only change the instance attributes, the shared class will not change\n",
    "\n",
    "```python\n",
    "x.spam = 88\n",
    "x.spam, y.spam, SharedData.spam\n",
    "```"
   ]
  },
  {
   "cell_type": "code",
   "execution_count": 5,
   "metadata": {},
   "outputs": [
    {
     "data": {
      "text/plain": [
       "(88, 99, 99)"
      ]
     },
     "execution_count": 5,
     "metadata": {},
     "output_type": "execute_result"
    }
   ],
   "source": [
    "x.spam = 88\n",
    "x.spam, y.spam, SharedData.spam"
   ]
  },
  {
   "cell_type": "markdown",
   "metadata": {},
   "source": [
    "y.spam is looked up in the class by inheritance, but the assignment to x.spam attaches a name to x itself. Here’s a more comprehensive example of this behavior that stores the same name in two places. Suppose we run the following class: \n",
    "\n",
    "```python\n",
    " class MixedNames: # define class\n",
    "        data = 'spam' # Assign class attr\n",
    "        def __init__(self, value): #Assign method name \n",
    "            self.data = value # Assign instance attr\n",
    "        def display(self):\n",
    "            print(self.data, MixedNames.data) # Instance attr, class attr\n",
    "```            \n",
    "\n",
    "This class contains two defs, which bind class attributes to method functions. It also contains an = assignment statement; because this assignment assigns the name data inside the class, it lives in the class’s local scope and becomes an attribute of the class object. Like all class attributes, this data is inherited and shared by all instances of the class that don’t have data attributes of their own. \n",
    "\n",
    "When we make instances of this class, the name data is attached to those instances by the assignment to self.data in the constructor method: \n",
    "\n",
    "```python\n",
    "\n",
    "x = MixedNames(1)\n",
    "y = MixedNames(2)\n",
    "x.display(); y.display() \n",
    "```"
   ]
  },
  {
   "cell_type": "code",
   "execution_count": 6,
   "metadata": {},
   "outputs": [
    {
     "name": "stdout",
     "output_type": "stream",
     "text": [
      "1 spam\n",
      "2 spam\n"
     ]
    }
   ],
   "source": [
    "class MixedNames: # define class\n",
    "        data = 'spam' # Assign class attr\n",
    "        def __init__(self, value): #Assign method name \n",
    "            self.data = value # Assign instance attr\n",
    "        def display(self):\n",
    "            print(self.data, MixedNames.data) # Instance attr, class attr\n",
    "\n",
    "x = MixedNames(1)\n",
    "y = MixedNames(2)\n",
    "x.display(); y.display() "
   ]
  },
  {
   "cell_type": "markdown",
   "metadata": {},
   "source": [
    "### Methods\n",
    "Because you already know about functions, you also know about methods in classes. Methods are just function objects created by def statements nested in a class statement’s body. From an abstract perspective, methods provide behavior for instance objects to inherit. From a programming perspective, methods work in exactly the same way as simple functions, with one crucial exception: a method’s first argument always receives the instance object that is the implied subject of the method call. \n",
    "\n",
    "In other words, Python automatically maps instance method calls to a class’s method functions as follows. Method calls made through an instance, like this: \n",
    "\n",
    "`instance.method(args..)`\n",
    "\n",
    "are automatically translated to class method function calls of this form: \n",
    "\n",
    "`class.method(instance, args...)`\n",
    "\n",
    "Both call forms are valid in python"
   ]
  },
  {
   "cell_type": "markdown",
   "metadata": {},
   "source": [
    "#### Calling Superclass Constructors\n",
    "\n",
    "Methods are normally called through instances. Calls to methods through a class, though, do show up in a variety of special roles. One common scenario involves the constructor method. The `__init__` method, like all attributes, is looked up by inheritance. This means that at construction time, Python locates and calls just one `__init__`. If subclass constructors need to guarantee that superclass construction-time logic runs, too, they generally must call the superclass’s `__init__` method explicitly through the class: \n",
    "\n",
    "\n",
    "```python\n",
    "\n",
    "class Super:\n",
    "    def __init__(self, x):\n",
    "       ...default...code\n",
    "    \n",
    "class Sub(Super):\n",
    "    def __init__(self, x, y):\n",
    "        Super.__init__(self,x) # Run superclass __init__\n",
    "        ....custom code...   # Do my custom init for this class\n",
    "        \n",
    "```\n",
    "\n",
    "\n"
   ]
  },
  {
   "cell_type": "markdown",
   "metadata": {},
   "source": [
    "### Class interface techniques\n",
    "Extension is only one way to interface with a superclass. The file shown in this section, specialize.py, defines multiple classes that illustrate a variety of common techniques:\n",
    "\n",
    "Super : Defines a method function and a delegate that expects an action in a subclass. \n",
    "Inheritor : Doesn’t provide any new names, so it gets everything defined in Super.\n",
    "Replacer : Overrides Super’s method with a version of its own.\n",
    "Extender : Customizes Super’s method by overriding and calling back to run the default. \n",
    "Provider : Implements the action method expected by Super’s delegate method. \n",
    "\n",
    "\n",
    "```python\n",
    "# in specialize.py\n",
    "class Super:\n",
    "    def method(self):\n",
    "        print('In Super.method')\n",
    "    def delegate(self):\n",
    "        self.action()\n",
    "\n",
    "\n",
    "class Inheritor(Super):\n",
    "    pass\n",
    "\n",
    "class Replacer(Super):\n",
    "    def method(self):\n",
    "        print('in Replacer.method')\n",
    "\n",
    "class Extender(Super):\n",
    "    def method(self):\n",
    "        print('starting Extender.method')\n",
    "        Super.method(self)\n",
    "        print('ending Extender.method')\n",
    "\n",
    "class Provider(Super):\n",
    "\n",
    "    def action(self):\n",
    "        print('in Provider.action')\n",
    "\n",
    "if __name__ == '__main__':\n",
    "    for klass in (Inheritor, Replacer, Extender):\n",
    "        print('\\n' + klass.__name__ + '...')\n",
    "        klass().method()\n",
    "    print('\\nProvider...')\n",
    "    x = Provider()\n",
    "    x.delegate()\n",
    "\n",
    "```\n",
    "\n",
    "\n",
    "#### abstract superclasses\n",
    "\n",
    "Of the prior example’s classes, Provider may be the most crucial to understand. When we call the delegate method through a Provider instance, two independent inheritance searches occur: \n",
    "1. On the initial x.delegate call, Python finds the delegate method in Super by searching the Provider instance and above. The instance x is passed into the method’s self argument as usual. \n",
    "\n",
    "2. Inside the Super.delegate method, self.action invokes a new, independent inheritance search of self and above. Because self references a Provider instance, the action method is located in the Provider subclass. \n",
    "\n",
    "At least in terms of the delegate method, the superclass in this example is what is sometimes called an abstract superclass—a class that expects parts of its behavior to be provided by its subclasses. If an expected method is not defined in a subclass, Python raises an undefined name exception when the inheritance search fails. \n",
    "\n",
    "\n",
    "Class coders sometimes make such subclass requirements more obvious with assert statements, or by raising the built-in NotImplementedError exception with raise statements. We’ll study statements that may trigger exceptions in depth in the next part of this book; as a quick preview, here’s the assert scheme in action: \n",
    "\n",
    "```python\n",
    "\n",
    "class Super:\n",
    "    def delegate(self):\n",
    "        self.action()\n",
    "    def action(self):\n",
    "        assert False, 'action must be defined!' # if this version is called\n",
    "```\n",
    "\n",
    "Here, the expression is always false so as to trigger an error message if a method is not redefined, and inheritance locates the version here. Alternatively, some classes simply raise a `NotImplementedError` exception directly in such method stubs to signal the mistake:\n",
    "\n",
    "```python\n",
    "\n",
    "class Super:\n",
    "    def delegate(self):\n",
    "        self.action()\n",
    "    def action(self):\n",
    "        raise NotImplementedError('action must be defined!)\n",
    "```\n",
    "\n"
   ]
  },
  {
   "cell_type": "code",
   "execution_count": 9,
   "metadata": {},
   "outputs": [
    {
     "name": "stdout",
     "output_type": "stream",
     "text": [
      "\n",
      "Inheritor...\n",
      "In Super.method\n",
      "\n",
      "Replacer...\n",
      "in Replacer.method\n",
      "\n",
      "Extender...\n",
      "starting Extender.method\n",
      "In Super.method\n",
      "ending Extender.method\n",
      "\n",
      "Provider...\n",
      "in Provider.action\n"
     ]
    }
   ],
   "source": [
    "class Super:\n",
    "    def method(self):\n",
    "        print('In Super.method')\n",
    "    def delegate(self):\n",
    "        self.action()\n",
    "\n",
    "\n",
    "class Inheritor(Super):\n",
    "    pass\n",
    "\n",
    "class Replacer(Super):\n",
    "    def method(self):\n",
    "        print('in Replacer.method')\n",
    "\n",
    "class Extender(Super):\n",
    "    def method(self):\n",
    "        print('starting Extender.method')\n",
    "        Super.method(self)\n",
    "        print('ending Extender.method')\n",
    "\n",
    "class Provider(Super):\n",
    "\n",
    "    def action(self):\n",
    "        print('in Provider.action')\n",
    "\n",
    "if __name__ == '__main__':\n",
    "    for klass in (Inheritor, Replacer, Extender):\n",
    "        print('\\n' + klass.__name__ + '...')\n",
    "        klass().method()\n",
    "    print('\\nProvider...')\n",
    "    x = Provider()\n",
    "    x.delegate()\n"
   ]
  },
  {
   "cell_type": "code",
   "execution_count": 8,
   "metadata": {},
   "outputs": [
    {
     "ename": "AssertionError",
     "evalue": "action must be defined!",
     "output_type": "error",
     "traceback": [
      "\u001b[1;31m---------------------------------------------------------------------------\u001b[0m",
      "\u001b[1;31mAssertionError\u001b[0m                            Traceback (most recent call last)",
      "\u001b[1;32m<ipython-input-8-7ec340a4cb68>\u001b[0m in \u001b[0;36m<module>\u001b[1;34m\u001b[0m\n\u001b[0;32m      6\u001b[0m \u001b[1;33m\u001b[0m\u001b[0m\n\u001b[0;32m      7\u001b[0m \u001b[0mX\u001b[0m \u001b[1;33m=\u001b[0m \u001b[0mSuper\u001b[0m\u001b[1;33m(\u001b[0m\u001b[1;33m)\u001b[0m\u001b[1;33m\u001b[0m\u001b[0m\n\u001b[1;32m----> 8\u001b[1;33m \u001b[0mX\u001b[0m\u001b[1;33m.\u001b[0m\u001b[0mdelegate\u001b[0m\u001b[1;33m(\u001b[0m\u001b[1;33m)\u001b[0m\u001b[1;33m\u001b[0m\u001b[0m\n\u001b[0m",
      "\u001b[1;32m<ipython-input-8-7ec340a4cb68>\u001b[0m in \u001b[0;36mdelegate\u001b[1;34m(self)\u001b[0m\n\u001b[0;32m      1\u001b[0m \u001b[1;32mclass\u001b[0m \u001b[0mSuper\u001b[0m\u001b[1;33m:\u001b[0m\u001b[1;33m\u001b[0m\u001b[0m\n\u001b[0;32m      2\u001b[0m     \u001b[1;32mdef\u001b[0m \u001b[0mdelegate\u001b[0m\u001b[1;33m(\u001b[0m\u001b[0mself\u001b[0m\u001b[1;33m)\u001b[0m\u001b[1;33m:\u001b[0m\u001b[1;33m\u001b[0m\u001b[0m\n\u001b[1;32m----> 3\u001b[1;33m         \u001b[0mself\u001b[0m\u001b[1;33m.\u001b[0m\u001b[0maction\u001b[0m\u001b[1;33m(\u001b[0m\u001b[1;33m)\u001b[0m\u001b[1;33m\u001b[0m\u001b[0m\n\u001b[0m\u001b[0;32m      4\u001b[0m     \u001b[1;32mdef\u001b[0m \u001b[0maction\u001b[0m\u001b[1;33m(\u001b[0m\u001b[0mself\u001b[0m\u001b[1;33m)\u001b[0m\u001b[1;33m:\u001b[0m\u001b[1;33m\u001b[0m\u001b[0m\n\u001b[0;32m      5\u001b[0m         \u001b[1;32massert\u001b[0m \u001b[1;32mFalse\u001b[0m\u001b[1;33m,\u001b[0m \u001b[1;34m'action must be defined!'\u001b[0m \u001b[1;31m# if this version is called\u001b[0m\u001b[1;33m\u001b[0m\u001b[0m\n",
      "\u001b[1;32m<ipython-input-8-7ec340a4cb68>\u001b[0m in \u001b[0;36maction\u001b[1;34m(self)\u001b[0m\n\u001b[0;32m      3\u001b[0m         \u001b[0mself\u001b[0m\u001b[1;33m.\u001b[0m\u001b[0maction\u001b[0m\u001b[1;33m(\u001b[0m\u001b[1;33m)\u001b[0m\u001b[1;33m\u001b[0m\u001b[0m\n\u001b[0;32m      4\u001b[0m     \u001b[1;32mdef\u001b[0m \u001b[0maction\u001b[0m\u001b[1;33m(\u001b[0m\u001b[0mself\u001b[0m\u001b[1;33m)\u001b[0m\u001b[1;33m:\u001b[0m\u001b[1;33m\u001b[0m\u001b[0m\n\u001b[1;32m----> 5\u001b[1;33m         \u001b[1;32massert\u001b[0m \u001b[1;32mFalse\u001b[0m\u001b[1;33m,\u001b[0m \u001b[1;34m'action must be defined!'\u001b[0m \u001b[1;31m# if this version is called\u001b[0m\u001b[1;33m\u001b[0m\u001b[0m\n\u001b[0m\u001b[0;32m      6\u001b[0m \u001b[1;33m\u001b[0m\u001b[0m\n\u001b[0;32m      7\u001b[0m \u001b[0mX\u001b[0m \u001b[1;33m=\u001b[0m \u001b[0mSuper\u001b[0m\u001b[1;33m(\u001b[0m\u001b[1;33m)\u001b[0m\u001b[1;33m\u001b[0m\u001b[0m\n",
      "\u001b[1;31mAssertionError\u001b[0m: action must be defined!"
     ]
    }
   ],
   "source": [
    "# Assertion error abstract supeclass\n",
    "\n",
    "class Super:\n",
    "    def delegate(self):\n",
    "        self.action()\n",
    "    def action(self):\n",
    "        assert False, 'action must be defined!' # if this version is called\n",
    "        \n",
    "X = Super()\n",
    "X.delegate()"
   ]
  },
  {
   "cell_type": "code",
   "execution_count": 10,
   "metadata": {},
   "outputs": [
    {
     "name": "stdout",
     "output_type": "stream",
     "text": [
      "Help on function test_fun in module __main__:\n",
      "\n",
      "test_fun()\n",
      "    test the docstring\n",
      "\n"
     ]
    }
   ],
   "source": [
    "def test_fun():\n",
    "    \"\"\"\n",
    "    test the docstring \n",
    "    \"\"\"\n",
    "    pass\n",
    "\n",
    "help(test_fun)"
   ]
  },
  {
   "cell_type": "markdown",
   "metadata": {},
   "source": [
    "### Operator Overloading\n",
    "\n",
    "Really “operator overloading” simply means intercepting built-in operations in a class’s methods—Python automatically invokes your methods when instances of the class appear in built-in operations, and your method’s return value becomes the result of the corresponding operation. Here’s a review of the key ideas behind overloading: \n",
    "\n",
    "- Operator overloading lets classes intercept normal Python operations. \n",
    "- Classes can overload all Python expression operators. \n",
    "- Classes can also overload built-in operations such as printing, function calls, attribute access, etc. \n",
    "- Overloading makes class instances act more like built-in types. \n",
    "- Overloading is implemented by providing specially named methods in a class."
   ]
  },
  {
   "cell_type": "markdown",
   "metadata": {},
   "source": [
    "![common operator overloading methods](static/fig2.png)"
   ]
  },
  {
   "cell_type": "markdown",
   "metadata": {},
   "source": [
    "#### user defined iterables\n",
    "\n",
    "\n",
    "In the `__iter__` scheme, classes implement user-defined iterables by simply implementing the iteration protocol. For example the following file uses a class to define a user-defined iterable that generates squares on demand, instead of all at once\n",
    "\n",
    "```python\n",
    "\n",
    "class Squares:\n",
    "    def __init__(self, start, stop):\n",
    "        self.value = start - 1 \n",
    "        self.stop = stop\n",
    "    \n",
    "    def __iter__(self):  # this operator is overloaded when for is called, stops when StopIteration is raised\n",
    "        return self \n",
    "    \n",
    "    def __next__(self):\n",
    "        if self.value == self.stop:\n",
    "            raise StopIteration\n",
    "        self.value += 1\n",
    "        return self.value ** 2\n",
    "    \n",
    "from squares import Squares\n",
    "\n",
    "for i in Squares(1, 5):\n",
    "    print(i, end=' ')\n",
    "```"
   ]
  },
  {
   "cell_type": "code",
   "execution_count": 12,
   "metadata": {},
   "outputs": [
    {
     "name": "stdout",
     "output_type": "stream",
     "text": [
      "1 4 9 16 25 "
     ]
    }
   ],
   "source": [
    "class Squares:\n",
    "    def __init__(self, start, stop):\n",
    "        self.value = start - 1 \n",
    "        self.stop = stop\n",
    "\n",
    "    def __iter__(self):  # this operator is overloaded when for is called, stops when StopIteration is raised\n",
    "        return self \n",
    "\n",
    "    def __next__(self):\n",
    "        if self.value == self.stop:\n",
    "            raise StopIteration\n",
    "        self.value += 1\n",
    "        return self.value ** 2\n",
    "\n",
    "\n",
    "for i in Squares(1, 5):\n",
    "    print(i, end=' ')\n"
   ]
  },
  {
   "cell_type": "markdown",
   "metadata": {},
   "source": [
    "#### String Representation: __repr__ and __str__\n",
    "\n",
    "The following code exercises the `__init__` constructor and the `__add__` overload method, both of which we’ve already seen (+ is an in-place operation here. The default display of instance objects for a class like this is neither generally useful nor aesthetically pretty.\n",
    "\n",
    "```python \n",
    "\n",
    "class adder:\n",
    "    def __init__(self, value=0):\n",
    "        self.data = value\n",
    "        \n",
    "    def __add__(self, other): # overload +\n",
    "        self.data += other\n",
    "        \n",
    "x = adder()\n",
    "print(x)\n",
    "```\n",
    "\n",
    "But coding or inheriting string representation methods allows us to customize the display, which defines a `__repr__` method in a subclass that returns a string representation for its instances.\n",
    "\n",
    "```python\n",
    "\n",
    "class addrepr(adder):\n",
    "    def __repr__(self):\n",
    "        return 'addrepr(%s)' % self.data\n",
    "```"
   ]
  },
  {
   "cell_type": "code",
   "execution_count": 13,
   "metadata": {},
   "outputs": [
    {
     "name": "stdout",
     "output_type": "stream",
     "text": [
      "<__main__.adder object at 0x000001B2396B2B00>\n"
     ]
    }
   ],
   "source": [
    "\n",
    "class adder:\n",
    "    def __init__(self, value=0):\n",
    "        self.data = value\n",
    "\n",
    "    def __add__(self, other): # overload +\n",
    "        self.data += other\n",
    "\n",
    "x = adder()\n",
    "print(x)"
   ]
  },
  {
   "cell_type": "code",
   "execution_count": 15,
   "metadata": {},
   "outputs": [
    {
     "name": "stdout",
     "output_type": "stream",
     "text": [
      "addrepr(3)\n"
     ]
    },
    {
     "data": {
      "text/plain": [
       "('addrepr(3)', 'addrepr(3)')"
      ]
     },
     "execution_count": 15,
     "metadata": {},
     "output_type": "execute_result"
    }
   ],
   "source": [
    "class addrepr(adder):\n",
    "    def __repr__(self):\n",
    "        return 'addrepr(%s)' % self.data\n",
    "x = addrepr(2)\n",
    "x + 1\n",
    "print(x)\n",
    "str(x), repr(x)"
   ]
  },
  {
   "cell_type": "markdown",
   "metadata": {},
   "source": [
    "Python provides two display methods to support alternative displays for different audiences:\n",
    "\n",
    "- `__str__` is tried first for the print operation and the str built in function. It generally should return a user friendly display\n",
    "- `__repr__` is used in all other contexts: for interactive echoes, the repr function , and nested apperaances, as well as by print and str if no `__str__` is present. It should generally return an as code string that could be used to recreate the object or a detailed display for developers. \n",
    "\n",
    "Depending on a containers string conversion logic, the user friendly display of `__str__` might only apply when objects appear at the top level of a print operation; objects nested in larger objects might still print with their `__repr__` or its default. \n",
    "\n",
    "```python\n",
    "\n",
    "class Printer:\n",
    "    def __init__(self, val):\n",
    "        self.val = val\n",
    "        \n",
    "    def __str__(self):\n",
    "        return str(self.val)\n",
    "    \n",
    "objs = [Printer(2), Printer(3)]\n",
    "for x in objs:\n",
    "    print(x)\n",
    "print(objs)\n",
    "objs\n",
    "\n",
    "# however if we use __repr__\n",
    "class Printer:\n",
    "    def __init__(self, val):\n",
    "        self.val = val\n",
    "        \n",
    "    def __repr__(self):\n",
    "        return str(self.value)\n",
    "\n",
    "```"
   ]
  },
  {
   "cell_type": "code",
   "execution_count": 17,
   "metadata": {},
   "outputs": [
    {
     "name": "stdout",
     "output_type": "stream",
     "text": [
      "2\n",
      "3\n",
      "[<__main__.Printer object at 0x000001B23977E5F8>, <__main__.Printer object at 0x000001B23977E710>]\n"
     ]
    },
    {
     "data": {
      "text/plain": [
       "[<__main__.Printer at 0x1b23977e5f8>, <__main__.Printer at 0x1b23977e710>]"
      ]
     },
     "execution_count": 17,
     "metadata": {},
     "output_type": "execute_result"
    }
   ],
   "source": [
    "class Printer:\n",
    "    def __init__(self, val):\n",
    "        self.val = val\n",
    "\n",
    "    def __str__(self):\n",
    "        return str(self.val)\n",
    "\n",
    "objs = [Printer(2), Printer(3)]\n",
    "for x in objs:\n",
    "    print(x)\n",
    "print(objs)\n",
    "objs"
   ]
  },
  {
   "cell_type": "code",
   "execution_count": 19,
   "metadata": {},
   "outputs": [
    {
     "name": "stdout",
     "output_type": "stream",
     "text": [
      "2\n",
      "3\n",
      "[2, 3]\n"
     ]
    },
    {
     "data": {
      "text/plain": [
       "[2, 3]"
      ]
     },
     "execution_count": 19,
     "metadata": {},
     "output_type": "execute_result"
    }
   ],
   "source": [
    "class Printer:\n",
    "    def __init__(self, val):\n",
    "        self.val = val        \n",
    "    def __repr__(self):\n",
    "        return str(self.val)\n",
    "objs = [Printer(2), Printer(3)]\n",
    "for x in objs:\n",
    "    print(x)\n",
    "print(objs)\n",
    "objs"
   ]
  }
 ],
 "metadata": {
  "kernelspec": {
   "display_name": "NewEnv",
   "language": "python",
   "name": "newenv"
  },
  "language_info": {
   "codemirror_mode": {
    "name": "ipython",
    "version": 3
   },
   "file_extension": ".py",
   "mimetype": "text/x-python",
   "name": "python",
   "nbconvert_exporter": "python",
   "pygments_lexer": "ipython3",
   "version": "3.7.0"
  }
 },
 "nbformat": 4,
 "nbformat_minor": 2
}
