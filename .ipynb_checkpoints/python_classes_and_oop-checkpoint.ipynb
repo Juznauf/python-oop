{
 "cells": [
  {
   "cell_type": "markdown",
   "metadata": {},
   "source": [
    "## Classes and OOP\n",
    "\n",
    "Using classes well requires some up front planning, they tend to be of more interest to people who work in strategic mode (doing long term product development) rather than to people who work in tactical mode (where time is in very short supply).\n",
    "\n",
    "\n",
    "Two aspects of OOP prove useful when implementing the hypothetical pizza-making robot in Chapter 16. \n",
    "\n",
    "Inheritence: Pizza-making robots are kinds of robots, so they possess the usual robot-y properties. In OOP terms, we say they “inherit” properties from the general category of all robots. These common properties need to be implemented only once for the general case and can be reused in part or in full by all types of robots we may build in the future\n",
    "\n",
    "Composition: Pizza-making robots are really collections of components that work together as a team. For instance, for our robot to be successful, it might need arms to roll dough, motors to maneuver to the oven, and so on. In OOP parlance, our robot is an example of composition; it contains other objects that it activates to do its bidding. Each component might be coded as a class, which defines its own behavior and relationships. \n"
   ]
  },
  {
   "cell_type": "markdown",
   "metadata": {},
   "source": [
    "In terms of search trees, an instance inherits attributes from its class, and a class inherits attributes from all classes above it in the tree. \n",
    "\n",
    "\n",
    "Superclasses provide behavior shared by all their subclasses, but because the search proceeds from the bottom up, subclasses may override behavior defined in their superclasses by redefining superclass names lower in the tree. \n",
    "\n"
   ]
  },
  {
   "cell_type": "markdown",
   "metadata": {},
   "source": [
    "#### Coding the class tree\n",
    "\n",
    "\n",
    "```python\n",
    "\n",
    "class C2:... # Make class objects (ovals)\n",
    "class C3:... \n",
    "class C1(C2, C3):... # Linked to superclasses (in this order, L-R)\n",
    "\n",
    "I1 = C1() # make instance objects (rectangles)\n",
    "I2 = C2() # Linked to their classes\n",
    "```\n",
    "\n",
    "\n",
    "\n",
    "\n"
   ]
  },
  {
   "cell_type": "markdown",
   "metadata": {},
   "source": [
    "#### Operator oveloading\n",
    "\n",
    "The __init__ method is know as the constructor because of when it is run. Its the most commonly used representative of a larger class of methods called operator overloading methods, which we'll discuss in more detail in the chapters that follow. \n",
    "\n",
    "\n",
    "#### Polymorphism and classes\n",
    "As an example, suppose you’re assigned the task of implementing an employee database application. As a Python OOP programmer, you might begin by coding a general superclass that defines default behaviors common to all the kinds of employees in your organization: \n",
    "\n",
    "```python \n",
    "class Employee:\n",
    "    def computeSalary(self):...\n",
    "    def giveRaise(self):...\n",
    "    def promote(self):...\n",
    "    def retire(self):...\n",
    "```\n",
    "Once you’ve coded this general behavior, you can specialize it for each specific kind of employee to reflect how the various types differ from the norm. That is, you can code subclasses that customize just the bits of behavior that differ per employee type; the rest of the employee types’ behavior will be inherited from the more general class. For example, if engineers have a unique salary computation rule (perhaps it’s not hours times rate), you can replace just that one method in a subclass: \n",
    "\n",
    "\n",
    "```python\n",
    "\n",
    "class Engineer(Employee):\n",
    "    def computeSalary(self):... \n",
    "```\n",
    "because the computeSalary version here appears lower in the class tree, it will replace (override) the general version in Employee. You then create instances of the kinds of employee classes that the real employees belong to, to get the correct behaviour.\n",
    "\n",
    "Polymorphism means that the meaning of an operation depends on the object being operated on. That is, code shouldn’t care about what an object is, only about what it does. Here, the method computeSalary is located by inheritance search in each object before it is called. The net effect is that we automatically run the correct version for the object being processed. Trace the code to see why\n",
    "\n",
    "\n",
    "\n",
    "In other applications, polymorphism might also be used to hide (i.e., encapsulate) interface differences. For example, a program that processes data streams might be coded to expect objects with input and output methods, without caring what those methods actually do: \n",
    "\n",
    "```python \n",
    "def processor(reader, converter, writer):\n",
    "    while True:\n",
    "        data = reader.read()\n",
    "        if not data:\n",
    "            break\n",
    "        data = converter(data)\n",
    "        writer.write(data)\n",
    "```\n",
    "By passing in instances of subclasses that specialize the required read and write method interfaces for various data sources, we can reuse the processor function for any data source we need to use, both now and in the future: \n",
    "\n",
    "\n",
    "\n"
   ]
  },
  {
   "cell_type": "markdown",
   "metadata": {},
   "source": [
    "#### Class objects provide default behavior\n",
    "When we run a class statement, we get a class object. Here’s a rundown of the main properties of Python classes: \n",
    "- The class statement creates a class object and assigns it a name. Just like the function def statement, the Python class statement is an executable statement. When reached and run, it generates a new class object and assigns it to the name in the class header. Also, like defs, class statements typically run when the files they are coded in are first imported. \n",
    "- Assignments inside class statements make class attributes. Just like in module files, top-level assignments within a class statement (not nested in a def) generate attributes in a class object. Technically, the class statement defines a local scope that morphs into the attribute namespace of the class object, just like a module’s global scope. After running a class statement, class attributes are accessed by name qualification: object.name. \n",
    "- Class attributes provide object state and behavior. Attributes of a class object record state information and behavior to be shared by all instances created from the class; function def statements nested inside a class generate methods, which process instances.\n",
    "\n",
    "\n"
   ]
  },
  {
   "cell_type": "markdown",
   "metadata": {},
   "source": [
    "Key points behind class instances:\n",
    "- Calling a class object like a function makes a new instance object. Each time a class is called, it creates and returns a new instance object. Instances represent concrete items in your programs domain\n",
    "- Each instance object inherits class attributes and gets its own namespace. Instance objects created from classes are new namespaces, they start out empty but inherit attributes that live in the class objects from which they were generated. \n",
    "- Assignments to attributes of self in methods make per instance attributes. \n",
    "\n"
   ]
  },
  {
   "cell_type": "code",
   "execution_count": 18,
   "metadata": {},
   "outputs": [],
   "source": [
    "class FirstClass:\n",
    "    def setdata(self, value):\n",
    "        self.data = value\n",
    "    def display(self):\n",
    "        print(self.data)"
   ]
  },
  {
   "cell_type": "code",
   "execution_count": 19,
   "metadata": {},
   "outputs": [],
   "source": [
    "x = FirstClass()\n",
    "y = FirstClass()"
   ]
  },
  {
   "cell_type": "code",
   "execution_count": 20,
   "metadata": {},
   "outputs": [],
   "source": [
    "x.setdata('King Arthur')\n",
    "y.setdata(22)"
   ]
  },
  {
   "cell_type": "code",
   "execution_count": 23,
   "metadata": {},
   "outputs": [
    {
     "ename": "AssertionError",
     "evalue": "data must be of type(str)",
     "output_type": "error",
     "traceback": [
      "\u001b[1;31m---------------------------------------------------------------------------\u001b[0m",
      "\u001b[1;31mAssertionError\u001b[0m                            Traceback (most recent call last)",
      "\u001b[1;32m<ipython-input-23-7dd602940a87>\u001b[0m in \u001b[0;36m<module>\u001b[1;34m\u001b[0m\n\u001b[0;32m      1\u001b[0m \u001b[1;31m# assertion error raised\u001b[0m\u001b[1;33m\u001b[0m\u001b[1;33m\u001b[0m\u001b[1;33m\u001b[0m\u001b[0m\n\u001b[0;32m      2\u001b[0m \u001b[1;33m\u001b[0m\u001b[0m\n\u001b[1;32m----> 3\u001b[1;33m \u001b[0my\u001b[0m\u001b[1;33m.\u001b[0m\u001b[0mdisplay\u001b[0m\u001b[1;33m(\u001b[0m\u001b[1;33m)\u001b[0m\u001b[1;33m\u001b[0m\u001b[1;33m\u001b[0m\u001b[0m\n\u001b[0m",
      "\u001b[1;32m<ipython-input-18-3f0936760727>\u001b[0m in \u001b[0;36mdisplay\u001b[1;34m(self)\u001b[0m\n\u001b[0;32m      3\u001b[0m         \u001b[0mself\u001b[0m\u001b[1;33m.\u001b[0m\u001b[0mdata\u001b[0m \u001b[1;33m=\u001b[0m \u001b[0mvalue\u001b[0m\u001b[1;33m\u001b[0m\u001b[1;33m\u001b[0m\u001b[0m\n\u001b[0;32m      4\u001b[0m     \u001b[1;32mdef\u001b[0m \u001b[0mdisplay\u001b[0m\u001b[1;33m(\u001b[0m\u001b[0mself\u001b[0m\u001b[1;33m)\u001b[0m\u001b[1;33m:\u001b[0m\u001b[1;33m\u001b[0m\u001b[1;33m\u001b[0m\u001b[0m\n\u001b[1;32m----> 5\u001b[1;33m         \u001b[1;32massert\u001b[0m \u001b[0mtype\u001b[0m\u001b[1;33m(\u001b[0m\u001b[0mself\u001b[0m\u001b[1;33m.\u001b[0m\u001b[0mdata\u001b[0m\u001b[1;33m)\u001b[0m \u001b[1;32mis\u001b[0m \u001b[0mstr\u001b[0m\u001b[1;33m,\u001b[0m \u001b[1;34m\"data must be of type(str)\"\u001b[0m\u001b[1;33m\u001b[0m\u001b[1;33m\u001b[0m\u001b[0m\n\u001b[0m\u001b[0;32m      6\u001b[0m         \u001b[0mprint\u001b[0m\u001b[1;33m(\u001b[0m\u001b[0mself\u001b[0m\u001b[1;33m.\u001b[0m\u001b[0mdata\u001b[0m\u001b[1;33m)\u001b[0m\u001b[1;33m\u001b[0m\u001b[1;33m\u001b[0m\u001b[0m\n",
      "\u001b[1;31mAssertionError\u001b[0m: data must be of type(str)"
     ]
    }
   ],
   "source": [
    "# assertion error raised\n",
    "\n",
    "y.display()"
   ]
  },
  {
   "cell_type": "code",
   "execution_count": 22,
   "metadata": {},
   "outputs": [
    {
     "name": "stdout",
     "output_type": "stream",
     "text": [
      "King Arthur\n",
      "New Value\n"
     ]
    }
   ],
   "source": [
    "# we can also freely  get/set attributes\n",
    "print(x.data)\n",
    "x.data = \"New Value\" # get/set \n",
    "\n",
    "x.display()"
   ]
  },
  {
   "cell_type": "code",
   "execution_count": 8,
   "metadata": {},
   "outputs": [
    {
     "name": "stdout",
     "output_type": "stream",
     "text": [
      "Spam\n"
     ]
    }
   ],
   "source": [
    "# can set new attributes too\n",
    "\n",
    "x.anothername = \"Spam\"\n",
    "print(x.anothername)"
   ]
  },
  {
   "cell_type": "markdown",
   "metadata": {},
   "source": [
    "#### Overloading operators\n",
    "1. Methods named with double underscores `(__X__)` are special hooks. In Python classes we implement operator overloading by providing specially named methods to intercept operations. The Python language defines a fixed and unchangeable mapping from each of these operations to a specially named method. \n",
    "2. Such methods are called automatically when instances appear in built-in operations. For instance, if an instance object inherits an `__add__` method, that method is called whenever the object appears in a + expression. The method’s return value becomes the result of the corresponding expression. \n",
    "3. Classes may override most built-in type operations. There are dozens of special operator overloading method names for intercepting and implementing nearly every operation available for built-in types. This includes expressions, but also basic operations like printing and object creation. \n",
    "4. There are no defaults for operator overloading methods, and none are required. If a class does not define or inherit an operator overloading method, it just means that the corresponding operation is not supported for the class’s instances. If there is no `__add__`, for example, + expressions raise exceptions. \n",
    "5.  Operators allow classes to integrate with Python’s object model. By overloading type operations, the user-defined objects we implement with classes can act just like built-ins, and so provide consistency as well as compatibility with expected interfaces. \n",
    "\n",
    "\n"
   ]
  },
  {
   "cell_type": "markdown",
   "metadata": {},
   "source": [
    "An example with operator overloading\n",
    "\n",
    "```python\n",
    "class SecondClass(FirstClass):\n",
    "    def display(self):\n",
    "        print('Current value = \"%s\"' % self.data)\n",
    "\n",
    "\n",
    "class ThirdClass(SecondClass):\n",
    "    def __init__(self, value):\n",
    "        self.data = value\n",
    "    def __add__(self.data, other):  # on self + other\n",
    "        return ThirdClass(self.data + other)\n",
    "    def __str__(self):    # on print(self), str()\n",
    "        return '[Thirdclass: %s]' % self.data\n",
    "```"
   ]
  },
  {
   "cell_type": "code",
   "execution_count": 50,
   "metadata": {},
   "outputs": [],
   "source": [
    "class FirstClass:\n",
    "    def setdata(self, value):\n",
    "        self.data = value\n",
    "    def display(self):\n",
    "        print(self.data)\n",
    "\n",
    "\n",
    "class SecondClass(FirstClass):\n",
    "    pass\n",
    "    def display(self):\n",
    "        print('Current value = \"%s\"' % self.data)\n",
    "\n",
    "\n",
    "class ThirdClass(SecondClass):\n",
    "    def __init__(self, value):\n",
    "        self.data = value\n",
    "    def __add__(self, other):  # on self + other\n",
    "        return ThirdClass(self.data + other)\n",
    "    def __str__(self):    # on print(self), str()\n",
    "        return '[Thirdclass: %s]' % self.data\n",
    "    def mul(self, other):\n",
    "        self.data *= other # changes the instance object in place"
   ]
  },
  {
   "cell_type": "code",
   "execution_count": 51,
   "metadata": {},
   "outputs": [
    {
     "name": "stdout",
     "output_type": "stream",
     "text": [
      "Current value = \"abc\"\n"
     ]
    }
   ],
   "source": [
    "a = ThirdClass('abc')\n",
    "a.display()"
   ]
  },
  {
   "cell_type": "code",
   "execution_count": 52,
   "metadata": {},
   "outputs": [
    {
     "name": "stdout",
     "output_type": "stream",
     "text": [
      "[Thirdclass: abc]\n"
     ]
    }
   ],
   "source": [
    "print(a)"
   ]
  },
  {
   "cell_type": "code",
   "execution_count": 53,
   "metadata": {},
   "outputs": [
    {
     "name": "stdout",
     "output_type": "stream",
     "text": [
      "Current value = \"abcxyz\"\n"
     ]
    }
   ],
   "source": [
    "b = a + 'xyz' # __add__ makes a new instance\n",
    "b.display()"
   ]
  },
  {
   "cell_type": "code",
   "execution_count": 54,
   "metadata": {},
   "outputs": [
    {
     "name": "stdout",
     "output_type": "stream",
     "text": [
      "[Thirdclass: abc]\n",
      "[Thirdclass: abcxyzabcxyz]\n"
     ]
    }
   ],
   "source": [
    "a.mul(1)  # mul: changes instance in place\n",
    "print(a)\n",
    "b.mul(2)\n",
    "print(b)"
   ]
  },
  {
   "cell_type": "markdown",
   "metadata": {},
   "source": [
    "### More realistic example of OOP\n",
    "\n",
    "Create two classes for an object oriented database: Person and Manager\n",
    "- Person: A classs that creates and process information about people\n",
    "- Manager: A customization of Person that modifies inherited behavior\n",
    "\n",
    "For code implementation, check `person.py`\n"
   ]
  },
  {
   "cell_type": "markdown",
   "metadata": {},
   "source": [
    "#### Coding Constructors\n",
    "\n",
    "The normal way to give instance attributes their first values is to assign them to `self` in the `__init__` constructor method\n",
    "\n",
    "```python\n",
    "class Person:\n",
    "    def __init__(self, name, job, pay):\n",
    "        self.name = name\n",
    "        self.job = job\n",
    "        self.pay = pay\n",
    "```\n",
    "In OO terms, self is the newly created instance object, and name, job, and pay become state information—descriptive data saved on an object for later use. Although other techniques (such as enclosing scope reference closures) can save details, too, instance attributes make this very explicit and easy to understand. \n",
    "\n",
    "\n",
    "We can also add defaults to the args\n",
    "\n",
    "```python\n",
    "class Person:\n",
    "    def __init__(self, name, job=None, pay=0):\n",
    "        self.name = name\n",
    "        self.job = job\n",
    "        self.pay = pay\n",
    "```\n",
    "\n",
    "We have to specify a default for pay according to pythons syntax rules, any args in a functions header after the first default must all have defaults too\n",
    "\n",
    "\n",
    "\n",
    "\n"
   ]
  },
  {
   "cell_type": "code",
   "execution_count": 70,
   "metadata": {},
   "outputs": [],
   "source": [
    "class Person:\n",
    "    def __init__(self, name, job=None, pay=0):\n",
    "        self.name = name\n",
    "        self.job = job\n",
    "        self.pay = pay"
   ]
  },
  {
   "cell_type": "code",
   "execution_count": 67,
   "metadata": {},
   "outputs": [],
   "source": [
    "bob = Person('Bob Smith')"
   ]
  },
  {
   "cell_type": "code",
   "execution_count": 69,
   "metadata": {},
   "outputs": [
    {
     "name": "stdout",
     "output_type": "stream",
     "text": [
      "BOB SMITH\n"
     ]
    }
   ],
   "source": [
    "print(bob)"
   ]
  },
  {
   "cell_type": "markdown",
   "metadata": {},
   "source": [
    "### Coding methods\n",
    "\n",
    "\n",
    "Employ encapsulation, wrapping up operation logic behind interfaces, such that each operation is coded only once in our program. This way, if our need change in the future, there is just one copy to update. Moreover, we're free to change the single copy's internals almost arbitrarily, without breaking the code that uses it.\n",
    "In Python terms, we want to code operations on objects in a class’s methods, instead of littering them throughout our program. In fact, this is one of the things that classes are very good at—factoring code to remove redundancy and thus optimize maintainability. As an added bonus, turning operations into methods enables them to be applied to any instance of the class, not just those that they’ve been hardcoded to process. \n",
    "\n",
    "The following achieves encapsulation by moving the two operations from code outside the class to methods inside the class. \n",
    "\n",
    "\n",
    "```python\n",
    "class Person:\n",
    "    def __init__(self, name, job=None, pay=0):\n",
    "        self.name = name\n",
    "        self.job = job\n",
    "        self.pay = pay\n",
    "    def lastName(self):\n",
    "        return self.name.split()[-1]\n",
    "    def giveRaise(self, percent):\n",
    "        self.pay = int(self.pay * (1 + percent))\n",
    "\n",
    "if __name__ == \"__main__\":\n",
    "    bob = Person(\"Bob Smith\")\n",
    "    sue = Person(\"Sue Jones\", job='dev', pay=100000)\n",
    "    print(bob.name, bob.pay)\n",
    "    print(sue.name, sue.pay)\n",
    "    print(bob.lastName(), sue.lastName())\n",
    "    sue.giveRaise(.10)\n",
    "    print(sue.pay)\n",
    "```\n",
    "\n"
   ]
  },
  {
   "cell_type": "code",
   "execution_count": 4,
   "metadata": {},
   "outputs": [
    {
     "name": "stdout",
     "output_type": "stream",
     "text": [
      "Bob Smith 0\n",
      "Sue Jones 100000\n",
      "Smith Jones\n",
      "110000\n"
     ]
    }
   ],
   "source": [
    "class Person:\n",
    "    def __init__(self, name, job=None, pay=0):\n",
    "        self.name = name\n",
    "        self.job = job\n",
    "        self.pay = pay\n",
    "    def lastName(self):\n",
    "        return self.name.split()[-1]\n",
    "    def giveRaise(self, percent):\n",
    "        self.pay = int(self.pay * (1 + percent))\n",
    "\n",
    "if __name__ == \"__main__\":\n",
    "    bob = Person(\"Bob Smith\")\n",
    "    sue = Person(\"Sue Jones\", job='dev', pay=100000)\n",
    "    print(bob.name, bob.pay)\n",
    "    print(sue.name, sue.pay)\n",
    "    print(bob.lastName(), sue.lastName())\n",
    "    sue.giveRaise(.10)\n",
    "    print(sue.pay)"
   ]
  },
  {
   "cell_type": "markdown",
   "metadata": {},
   "source": [
    "The give raise method assumes that percent is passed in as a floating point number between zero and one. That may be too radical an assumption in the real world, we can use python function decorators and python assert to validate\n",
    "\n",
    "For example:\n",
    "```python\n",
    "\n",
    "@rangetest(percent=(0.0, 1.0))\n",
    "def giveRaise(self, percent):\n",
    "    self.pay = int(self.pay * (1 + percent))\n",
    "```"
   ]
  },
  {
   "cell_type": "markdown",
   "metadata": {},
   "source": [
    "### Providing Print Displays\n",
    "\n",
    "Employ operator overloading, coding methods in a class that intercept and process built-in methods in Python, after `__init__`: the `__repr__` method and its `__str__` twin.\n",
    "\n",
    "These methods are run automatically every time an instance is converted to its print string. Because that’s what printing an object does, the net transitive effect is that printing an object displays whatever is returned by the object’s __str__ or __repr__ method, if the object either defines one itself or inherits one from a superclass. Doubleunderscored names are inherited just like any other. \n",
    "\n",
    "The following extends our class to give a custom display that lists attributes when our class instances are displayed as a whole, instead of relying on the less useful default display:\n",
    "\n",
    "```python\n",
    "class Person:\n",
    "    def __init__(self, name, job=None, pay=0):\n",
    "        self.name = name\n",
    "        self.job = job\n",
    "        self.pay = pay\n",
    "    def lastName(self):\n",
    "        return self.name.split()[-1]\n",
    "    def giveRaise(self, percent):\n",
    "        self.pay = int(self.pay * (1 + percent))\n",
    "    def __repr__(self):\n",
    "        return '[Person: %s, %s]' % (self.name, self.pay)\n",
    "\n",
    "if __name__ == \"__main__\":\n",
    "    bob = Person(\"Bob Smith\")\n",
    "    sue = Person(\"Sue Jones\", job='dev', pay=100000)\n",
    "    print(bob)\n",
    "    print(sue)\n",
    "    print(bob.lastName(), sue.lastName())\n",
    "    sue.giveRaise(.10)\n",
    "    print(sue)\n",
    "```\n"
   ]
  },
  {
   "cell_type": "code",
   "execution_count": 8,
   "metadata": {},
   "outputs": [
    {
     "name": "stdout",
     "output_type": "stream",
     "text": [
      "[Person: Bob Smith, 0]\n",
      "[Person: Sue Jones, 100000]\n",
      "Smith Jones\n",
      "[Person: Sue Jones, 110000]\n"
     ]
    }
   ],
   "source": [
    "class Person:\n",
    "    def __init__(self, name, job=None, pay=0):\n",
    "        self.name = name\n",
    "        self.job = job\n",
    "        self.pay = pay\n",
    "    def lastName(self):\n",
    "        return self.name.split()[-1]\n",
    "    def giveRaise(self, percent):\n",
    "        self.pay = int(self.pay * (1 + percent))\n",
    "    def __repr__(self):\n",
    "        return '[Person: %s, %s]' % (self.name, self.pay)\n",
    "\n",
    "if __name__ == \"__main__\":\n",
    "    bob = Person(\"Bob Smith\")\n",
    "    sue = Person(\"Sue Jones\", job='dev', pay=100000)\n",
    "    print(bob)\n",
    "    print(sue)\n",
    "    print(bob.lastName(), sue.lastName())\n",
    "    sue.giveRaise(.10)\n",
    "    print(sue)"
   ]
  },
  {
   "cell_type": "markdown",
   "metadata": {},
   "source": [
    "### Coding subclasses\n",
    "As a next step, then, let’s put OOP’s methodology to use and customize our Person class by extending our software hierarchy. For the purpose of this tutorial, we’ll define a subclass of Person called Manager that replaces the inherited giveRaise method with a more specialized version. Our new class begins as follows:\n",
    "\n",
    "```python\n",
    "class Manager(Person):\n",
    "```\n",
    "\n",
    "This inherits from person, a manager is almost similar to a person, except that when a manager gets a raise, its recieves the passed-in percentage as usual but also gets an extra bonus that defaults to 10%. For instance if a managers raise is specified as 10%, it will really get 20%\n",
    "\n",
    "Our new method begins as follows, because this redefinition of giveRaise is closer in the class tree to Manager instances than the original version in Person, it effectively replaces, and thereby customizes the operation. \n",
    "\n",
    "\n",
    "Now there are two ways we might code this Manager customization, a good way and a bad way. Lets start with the bad way, since it might be a bit easier to understand. The bad way is to cut and paste the code of giveRaise in Person and modify it for Manager, like this\n",
    "\n",
    "```python\n",
    "class Manager(Person):\n",
    "    def giveRaise(self, percent, bonus=0.10):\n",
    "        self.pay = int(self.pay * (1 + percent + bonus))\n",
    "```\n",
    "\n",
    "The problem here is a general one, everytime you copy code with cut and paste, you essentially double your maintanence effort in the future. \n",
    "\n",
    "#### Augmenting methods the good way\n",
    "\n",
    "What we really want to do here is somehow augment the original giveRaise, instead of replacing it altogether. The good way to do that in Python is by calling to the original version directly, with augmented arguments, like this:\n",
    "\n",
    "```python \n",
    "\n",
    "class Manager(Person):\n",
    "    def giveRaise(self, percent, bonus=.10):\n",
    "        Person.giveRaise(self, percent + bonus)\n",
    "```\n",
    "\n",
    "This code leverages the fact that a class methods can always be called either through an instance (the usual ways, where Python sends the instance to the self argument automatically) or through the class(the less common scheme, where you must pass the instance manually). In more symbolic terms, recall that a normal method call of this form:\n",
    "`instance.method(arg)` is automatically translated by Python into this equivalent form: `class.method(instance, args)` where the class method is determined through the inheritance search rule applied to the methods name\n",
    "\n",
    "\n",
    "With augmentation\n",
    "\n",
    "```python\n",
    "class Person:\n",
    "    def __init__(self, name, job=None, pay=0):\n",
    "        self.name = name\n",
    "        self.job = job\n",
    "        self.pay = pay\n",
    "    def lastName(self):\n",
    "        return self.name.split()[-1]\n",
    "    def giveRaise(self, percent):\n",
    "        self.pay = int(self.pay * (1 + percent))\n",
    "    def __repr__(self):\n",
    "        return '[Person: %s, %s]' % (self.name, self.pay)\n",
    "\n",
    "    \n",
    "class Manager(Person):\n",
    "    def giveRaise(self, percent, bonus=.10):\n",
    "        Person.giveRaise(self, percent + bonus)\n",
    "        \n",
    "\n",
    "if __name__ == \"__main__\":\n",
    "    bob = Person(\"Bob Smith\")\n",
    "    sue = Person(\"Sue Jones\", job='dev', pay=100000)\n",
    "    print(bob)\n",
    "    print(sue)\n",
    "    print(bob.lastName(), sue.lastName())\n",
    "    sue.giveRaise(.10)\n",
    "    print(sue)\n",
    "    tom = Manager('Tom Jones', 'mgr', 50000)\n",
    "    tom.giveRaise(.10)\n",
    "    print(tom.lastName())\n",
    "    print(tom)\n",
    "    \n",
    "```\n",
    "\n",
    "Because manager had no `__init__` constructor, it inherits that in Person.  "
   ]
  },
  {
   "cell_type": "code",
   "execution_count": 19,
   "metadata": {},
   "outputs": [
    {
     "name": "stdout",
     "output_type": "stream",
     "text": [
      "[Person: Bob Smith, 0]\n",
      "[Person: Sue Jones, 100000]\n",
      "Smith Jones\n",
      "[Person: Sue Jones, 110000]\n",
      "Jones\n",
      "[Person: Tom Jones, 60000]\n"
     ]
    }
   ],
   "source": [
    "class Person:\n",
    "    def __init__(self, name, job=None, pay=0):\n",
    "        self.name = name\n",
    "        self.job = job\n",
    "        self.pay = pay\n",
    "    def lastName(self):\n",
    "        return self.name.split()[-1]\n",
    "    def giveRaise(self, percent):\n",
    "        self.pay = int(self.pay * (1 + percent))\n",
    "    def __repr__(self):\n",
    "        return '[Person: %s, %s]' % (self.name, self.pay)\n",
    "\n",
    "\n",
    "class Manager(Person):\n",
    "    def giveRaise(self, percent, bonus=.10):\n",
    "        Person.giveRaise(self, percent + bonus)\n",
    "\n",
    "\n",
    "if __name__ == \"__main__\":\n",
    "    bob = Person(\"Bob Smith\")\n",
    "    sue = Person(\"Sue Jones\", job='dev', pay=100000)\n",
    "    print(bob)\n",
    "    print(sue)\n",
    "    print(bob.lastName(), sue.lastName())\n",
    "    sue.giveRaise(.10)\n",
    "    print(sue)\n",
    "    tom = Manager('Tom Jones', 'mgr', 50000) # will inherit the __init__ constructor from Person\n",
    "    tom.giveRaise(.10)\n",
    "    print(tom.lastName())\n",
    "    print(tom)"
   ]
  },
  {
   "cell_type": "markdown",
   "metadata": {},
   "source": [
    "#### Polymorphism in action\n",
    "\n",
    "To make this acquisition of behavior even more striking, we can add the following code at the end of our file temporarily:\n",
    "```python\n",
    "\n",
    "if __name__ == '__main__':\n",
    "    print(\"--all three objects--\")\n",
    "    for obj in (bob, sue, tom):\n",
    "        obj.giveRaise(.10):\n",
    "            print(obj)\n",
    "```\n",
    "\n",
    "### Inherit, Customize, and Extend\n",
    "\n",
    "```python\n",
    "class Person:\n",
    "    def lastName(self): \n",
    "        ...    \n",
    "    def giveRaise(self):\n",
    "        ...    \n",
    "    def __repr__(self):\n",
    "        ...\n",
    "class Manager(Person):                       # Inherit    \n",
    "    def giveRaise(self, ...): ...            # Customize    \n",
    "    def someThingElse(self, ...): ...        # Extend\n",
    "tom = Manager() \n",
    "tom.lastName()             # Inherited verbatim \n",
    "tom.giveRaise()            # Customized version \n",
    "tom.someThingElse()        # Extension here \n",
    "print(tom)                 # Inherited overload method \n",
    "\n",
    "```\n",
    "\n",
    "#### OOP the big picture:\n",
    "The customizable hierarchies we can build with classes provide a much better solution for software that will evolve over time. No other tools in Python support this development mode. Because we can tailor and extend our prior work by coding new subclasses, we can leverage what we’ve already done, rather than starting from scratch each time, breaking what already works, or introducing multiple copies of code that may all have to be updated in the future. When done right, OOP is a powerful programmer’s ally.\n",
    "\n",
    "\n",
    "Add customization to managers class such that we do not have to pass the mgr string as the occupation is already implied\n",
    "\n",
    "```python\n",
    "\n",
    "class Person:\n",
    "    def __init__(self, name, job=None, pay=0):\n",
    "        self.name = name\n",
    "        self.job = job\n",
    "        self.pay = pay\n",
    "    def lastName(self):\n",
    "        return self.name.split()[-1]\n",
    "    def giveRaise(self, percent):\n",
    "        self.pay = int(self.pay * (1 + percent))\n",
    "    def __repr__(self):\n",
    "        return '[Person: %s, %s]' % (self.name, self.pay)\n",
    "\n",
    "\n",
    "class Manager(Person):\n",
    "    def __init__(self, name, pay): # redefine the constructor\n",
    "        Person.__init__(self, name, 'mgr', pay) # Run original with mgr\n",
    "        \n",
    "    \n",
    "    def giveRaise(self, percent, bonus=.10):\n",
    "        Person.giveRaise(self, percent + bonus)\n",
    "\n",
    "\n",
    "if __name__ == \"__main__\":\n",
    "    bob = Person(\"Bob Smith\")\n",
    "    sue = Person(\"Sue Jones\", job='dev', pay=100000)\n",
    "    print(bob)\n",
    "    print(sue)\n",
    "    print(bob.lastName(), sue.lastName())\n",
    "    sue.giveRaise(.10)\n",
    "    print(sue)\n",
    "    tom = Manager('Tom Jones', 50000) # job name not needed\n",
    "    tom.giveRaise(.10)\n",
    "    print(tom.lastName())\n",
    "    print(tom)\n",
    "```\n",
    "    \n",
    "Calling superclass constructors from redefinitions this way turns out to be a very common coding pattern in Python. By itself, Python uses inheritance to look for and call only one __init__ method at construction time—the lowest one in the class tree. If you need higher __init__ methods to be run at construction time (and you usually do), you must call them manually, and usually through the superclass’s name. The upside to this is that you can be explicit about which argument to pass up to the superclass’s constructor and can choose to not call it at all: not calling the superclass constructor allows you to replace its logic altogether, rather than augmenting it. "
   ]
  },
  {
   "cell_type": "code",
   "execution_count": 20,
   "metadata": {},
   "outputs": [
    {
     "name": "stdout",
     "output_type": "stream",
     "text": [
      "[Person: Bob Smith, 0]\n",
      "[Person: Sue Jones, 100000]\n",
      "Smith Jones\n",
      "[Person: Sue Jones, 110000]\n",
      "Jones\n",
      "[Person: Tom Jones, 60000]\n"
     ]
    }
   ],
   "source": [
    "class Person:\n",
    "    def __init__(self, name, job=None, pay=0):\n",
    "        self.name = name\n",
    "        self.job = job\n",
    "        self.pay = pay\n",
    "    def lastName(self):\n",
    "        return self.name.split()[-1]\n",
    "    def giveRaise(self, percent):\n",
    "        self.pay = int(self.pay * (1 + percent))\n",
    "    def __repr__(self):\n",
    "        return '[Person: %s, %s]' % (self.name, self.pay)\n",
    "\n",
    "\n",
    "class Manager(Person):\n",
    "    def __init__(self, name, pay): # redefine the constructor\n",
    "        Person.__init__(self, name, 'mgr', pay) # Run original with mgr\n",
    "\n",
    "\n",
    "    def giveRaise(self, percent, bonus=.10):\n",
    "        Person.giveRaise(self, percent + bonus)\n",
    "\n",
    "\n",
    "if __name__ == \"__main__\":\n",
    "    bob = Person(\"Bob Smith\")\n",
    "    sue = Person(\"Sue Jones\", job='dev', pay=100000)\n",
    "    print(bob)\n",
    "    print(sue)\n",
    "    print(bob.lastName(), sue.lastName())\n",
    "    sue.giveRaise(.10)\n",
    "    print(sue)\n",
    "    tom = Manager('Tom Jones', 50000) # job name not needed\n",
    "    tom.giveRaise(.10)\n",
    "    print(tom.lastName())\n",
    "    print(tom)"
   ]
  },
  {
   "cell_type": "markdown",
   "metadata": {},
   "source": [
    "### summary so far\n",
    "\n",
    "In this complete form, and despite their relatively small sizes, our classes capture nearly all the important concepts in Python’s OOP machinery: \n",
    "- Instance creation—filling out instance attributes \n",
    "- Behavior methods—encapsulating logic in a class’s methods \n",
    "- Operator overloading—providing behavior for built-in operations like printing \n",
    "- Customizing behavior—redefining methods in subclasses to specialize them \n",
    "- Customizing constructors—adding initialization logic to superclass steps "
   ]
  },
  {
   "cell_type": "markdown",
   "metadata": {},
   "source": [
    "### Other methods of customization,composition\n",
    "\n",
    "As a quick example, though, we could use this composition idea to code our Manager extension by embedding a Person, instead of inheriting from it. We use the `__getattr__` operator overloading method to intercepy undefined attribute fetches and delegate them to the embedded object with the getattr built-in. \n",
    "The getattr call was introduced in Chapter 25—it’s the same as X.Y attribute fetch notation and thus perfrom inheritance, but the attribute name Y is a runtime string. \n",
    "By combining these tools, the giveRaise method here still achieves customization, by changing the argument passed along to the embedded object. In effect, Manager becomes a controller layer that passes calls down to the embedded object, rather than up to superclass methods: \n",
    "\n",
    "\n",
    "```python\n",
    "\n",
    "class Person:\n",
    "    ...same...\n",
    "class Manager:\n",
    "    def __init__(self, name, pay):\n",
    "        self.person = Person(name, 'mgr', pay)      # Embed a Person object    \n",
    "    def giveRaise(self, percent, bonus=.10):\n",
    "        self.person.giveRaise(percent + bonus)      # Intercept and delegate    \n",
    "    def __getattr__(self, attr):        \n",
    "        return getattr(self.person, attr)           # Delegate all other attrs    \n",
    "    def __repr__(self):\n",
    "        return str(self.person)                     # Must overload again (in 3.X)\n",
    "if __name__ == '__main__':    ...same... \n",
    "    \n",
    "```"
   ]
  },
  {
   "cell_type": "markdown",
   "metadata": {},
   "source": [
    "### Using introspection to check for object attributes\n",
    "We can put these interfaces to work in a superclass that displays accurate class names and formats all attributes of an instance of any class. Open a new file in your text editor to code the following—it’s a new, independent module named classtools.py that implements just such a class. Because its __repr__ display overload uses generic introspection tools, it will work on any instance, regardless of the instance’s attributes set. And because this is a class, it automatically becomes a general formatting tool: thanks to inheritance, it can be mixed into any class that wishes to use its display format. As an added bonus, if we ever want to change how instances are displayed we need only change this class, as every class that inherits its `__repr__` will automatically pick up the new format when it’s next run: \n",
    "\n",
    "```python\n",
    "\n",
    "class AttrDisplay:\n",
    "    \"\"\"    \n",
    "    Provides an inheritable display overload method that shows    \n",
    "    instances with their class names and a name=value pair for    \n",
    "    each attribute stored on the instance itself (but not attrs    \n",
    "    inherited from its classes). Can be mixed into any class,    \n",
    "    and will work on any instance.    \n",
    "    \"\"\"    \n",
    "    def gatherAttrs(self):\n",
    "        attrs = []\n",
    "        for key in sorted(self.__dict__):\n",
    "            attrs.append('%s=%s' % (key, getattr(self, key)))\n",
    "        return ', '.join(attrs)\n",
    "    def __repr__(self):\n",
    "        return '[%s: %s]' % (self.__class__.__name__, self.gatherAttrs())\n",
    "    \n",
    "if __name__ == '__main__':\n",
    "    class TopTest(AttrDisplay):\n",
    "        count = 0\n",
    "        def __init__(self):\n",
    "            self.attr1 = TopTest.count\n",
    "            self.attr2 = TopTest.count+1\n",
    "            TopTest.count += 2\n",
    "\n",
    "    class SubTest(TopTest):\n",
    "        pass\n",
    "    X, Y = TopTest(), SubTest()      # Make two instances\n",
    "    print(X)                         # Show all instance attrs\n",
    "    print(Y)                         # Show lowest class name\n",
    "\n",
    "```\n"
   ]
  },
  {
   "cell_type": "code",
   "execution_count": 21,
   "metadata": {},
   "outputs": [
    {
     "name": "stdout",
     "output_type": "stream",
     "text": [
      "[TopTest: attr1=0, attr2=1]\n",
      "[SubTest: attr1=2, attr2=3]\n"
     ]
    }
   ],
   "source": [
    "class AttrDisplay:\n",
    "    \"\"\"    \n",
    "    Provides an inheritable display overload method that shows    \n",
    "    instances with their class names and a name=value pair for    \n",
    "    each attribute stored on the instance itself (but not attrs    \n",
    "    inherited from its classes). Can be mixed into any class,    \n",
    "    and will work on any instance.    \n",
    "    \"\"\"    \n",
    "    def gatherAttrs(self):\n",
    "        attrs = []\n",
    "        for key in sorted(self.__dict__):\n",
    "            attrs.append('%s=%s' % (key, getattr(self, key)))\n",
    "        return ', '.join(attrs)\n",
    "    def __repr__(self):\n",
    "        return '[%s: %s]' % (self.__class__.__name__, self.gatherAttrs())\n",
    "\n",
    "if __name__ == '__main__':\n",
    "    class TopTest(AttrDisplay):\n",
    "        count = 0\n",
    "        def __init__(self):\n",
    "            self.attr1 = TopTest.count\n",
    "            self.attr2 = TopTest.count+1\n",
    "            TopTest.count += 2\n",
    "\n",
    "    class SubTest(TopTest):\n",
    "        pass\n",
    "    X, Y = TopTest(), SubTest()      # Make two instances\n",
    "    print(X)                         # Show all instance attrs\n",
    "    print(Y)                         # Show lowest class name"
   ]
  },
  {
   "cell_type": "code",
   "execution_count": null,
   "metadata": {},
   "outputs": [],
   "source": []
  }
 ],
 "metadata": {
  "kernelspec": {
   "display_name": "NewEnv",
   "language": "python",
   "name": "newenv"
  },
  "language_info": {
   "codemirror_mode": {
    "name": "ipython",
    "version": 3
   },
   "file_extension": ".py",
   "mimetype": "text/x-python",
   "name": "python",
   "nbconvert_exporter": "python",
   "pygments_lexer": "ipython3",
   "version": "3.7.0"
  }
 },
 "nbformat": 4,
 "nbformat_minor": 2
}
